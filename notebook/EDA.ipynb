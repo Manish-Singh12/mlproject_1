{
 "cells": [
  {
   "cell_type": "markdown",
   "metadata": {},
   "source": [
    "# Student Performance (Multiple Linear Regression)\n",
    "\n",
    "## Exploring Factors Affecting Student Performance"
   ]
  },
  {
   "cell_type": "markdown",
   "metadata": {},
   "source": [
    "## Machine Learning Lifecycle\n",
    "\n",
    "**The machine learning lifecycle is a process that guides the development and deployment of machine learning models in a structured way. It consists of various steps.**\n",
    "\n",
    "- Problem Definition\n",
    "- Data Collection\n",
    "- Data Quality Check\n",
    "- Exploratory Data Analysis (EDA)\n",
    "- Data Preprocessing\n",
    "- Model Training\n",
    "- Choose Best Model"
   ]
  },
  {
   "cell_type": "markdown",
   "metadata": {},
   "source": [
    "## 1. Problem Definition\n",
    "\n",
    "- This project explores how the student's performance (Performance Index) is affected by the factors like Hours Studied, Previous Scores, Extracurricular Activities, Sleep Hours and Sample Question Papers Practiced."
   ]
  },
  {
   "cell_type": "markdown",
   "metadata": {},
   "source": [
    "## 2. Data Collection\n",
    "\n",
    "- Dataset Source - [Link](https://www.kaggle.com/datasets/nikhil7280/student-performance-multiple-linear-regression)\n",
    "- The dataset consists of 10,000 student records."
   ]
  },
  {
   "cell_type": "markdown",
   "metadata": {},
   "source": [
    "### 2.1) Import Data & Libraries\n",
    "\n",
    "**Importing Pandas, Numpy, Seaborn, MatplotLib and Warnings Library.**"
   ]
  },
  {
   "cell_type": "code",
   "execution_count": 1,
   "metadata": {},
   "outputs": [],
   "source": [
    "import pandas as pd # chiefly used for machine learning in the form of DataFrames\n",
    "import numpy as np # used for working with arrays\n",
    "import seaborn as sns # used to create statistical graphics for data visualization\n",
    "import matplotlib.pyplot as plt # used to create data visualizations, such as plots, histograms, bar charts, and scatter plots\n",
    "%matplotlib inline \n",
    "# enables the rendering of Matplotlib plots directly below code cells\n",
    "\n",
    "import warnings\n",
    "warnings.filterwarnings('ignore') # for ignoring the warnings "
   ]
  },
  {
   "cell_type": "markdown",
   "metadata": {},
   "source": [
    "**Import CSV file in the form of Pandas Dataframe**"
   ]
  },
  {
   "cell_type": "code",
   "execution_count": 2,
   "metadata": {},
   "outputs": [],
   "source": [
    "data = pd.read_csv('data/Student_Performance.csv')"
   ]
  },
  {
   "cell_type": "markdown",
   "metadata": {},
   "source": [
    "**Top 5 Records**"
   ]
  },
  {
   "cell_type": "code",
   "execution_count": 3,
   "metadata": {},
   "outputs": [
    {
     "data": {
      "text/html": [
       "<div>\n",
       "<style scoped>\n",
       "    .dataframe tbody tr th:only-of-type {\n",
       "        vertical-align: middle;\n",
       "    }\n",
       "\n",
       "    .dataframe tbody tr th {\n",
       "        vertical-align: top;\n",
       "    }\n",
       "\n",
       "    .dataframe thead th {\n",
       "        text-align: right;\n",
       "    }\n",
       "</style>\n",
       "<table border=\"1\" class=\"dataframe\">\n",
       "  <thead>\n",
       "    <tr style=\"text-align: right;\">\n",
       "      <th></th>\n",
       "      <th>Hours Studied</th>\n",
       "      <th>Previous Scores</th>\n",
       "      <th>Extracurricular Activities</th>\n",
       "      <th>Sleep Hours</th>\n",
       "      <th>Sample Question Papers Practiced</th>\n",
       "      <th>Performance Index</th>\n",
       "    </tr>\n",
       "  </thead>\n",
       "  <tbody>\n",
       "    <tr>\n",
       "      <th>0</th>\n",
       "      <td>7</td>\n",
       "      <td>99</td>\n",
       "      <td>Yes</td>\n",
       "      <td>9</td>\n",
       "      <td>1</td>\n",
       "      <td>91.0</td>\n",
       "    </tr>\n",
       "    <tr>\n",
       "      <th>1</th>\n",
       "      <td>4</td>\n",
       "      <td>82</td>\n",
       "      <td>No</td>\n",
       "      <td>4</td>\n",
       "      <td>2</td>\n",
       "      <td>65.0</td>\n",
       "    </tr>\n",
       "    <tr>\n",
       "      <th>2</th>\n",
       "      <td>8</td>\n",
       "      <td>51</td>\n",
       "      <td>Yes</td>\n",
       "      <td>7</td>\n",
       "      <td>2</td>\n",
       "      <td>45.0</td>\n",
       "    </tr>\n",
       "    <tr>\n",
       "      <th>3</th>\n",
       "      <td>5</td>\n",
       "      <td>52</td>\n",
       "      <td>Yes</td>\n",
       "      <td>5</td>\n",
       "      <td>2</td>\n",
       "      <td>36.0</td>\n",
       "    </tr>\n",
       "    <tr>\n",
       "      <th>4</th>\n",
       "      <td>7</td>\n",
       "      <td>75</td>\n",
       "      <td>No</td>\n",
       "      <td>8</td>\n",
       "      <td>5</td>\n",
       "      <td>66.0</td>\n",
       "    </tr>\n",
       "  </tbody>\n",
       "</table>\n",
       "</div>"
      ],
      "text/plain": [
       "   Hours Studied  Previous Scores Extracurricular Activities  Sleep Hours  \\\n",
       "0              7               99                        Yes            9   \n",
       "1              4               82                         No            4   \n",
       "2              8               51                        Yes            7   \n",
       "3              5               52                        Yes            5   \n",
       "4              7               75                         No            8   \n",
       "\n",
       "   Sample Question Papers Practiced  Performance Index  \n",
       "0                                 1               91.0  \n",
       "1                                 2               65.0  \n",
       "2                                 2               45.0  \n",
       "3                                 2               36.0  \n",
       "4                                 5               66.0  "
      ]
     },
     "execution_count": 3,
     "metadata": {},
     "output_type": "execute_result"
    }
   ],
   "source": [
    "data.head()"
   ]
  },
  {
   "cell_type": "markdown",
   "metadata": {},
   "source": [
    "**Shape of the Dataset**"
   ]
  },
  {
   "cell_type": "code",
   "execution_count": 4,
   "metadata": {},
   "outputs": [
    {
     "data": {
      "text/plain": [
       "(10000, 6)"
      ]
     },
     "execution_count": 4,
     "metadata": {},
     "output_type": "execute_result"
    }
   ],
   "source": [
    "data.shape"
   ]
  },
  {
   "cell_type": "markdown",
   "metadata": {},
   "source": [
    "## 2.2) About Dataset\n",
    "\n",
    "### Description:\n",
    "\n",
    "The Student Performance Dataset is a dataset designed to examine the factors influencing academic student performance. The dataset consists of 10,000 student records, with each record containing information about various predictors and a performance index.\n",
    "\n",
    "### Variables:\n",
    "\n",
    "**Hours Studied:** The total number of hours spent studying by each student.\n",
    "\n",
    "**Previous Scores:** The scores obtained by students in previous tests.\n",
    "\n",
    "**Extracurricular Activities:** Whether the student participates in extracurricular activities (Yes or No).\n",
    "\n",
    "**Sleep Hours:** The average number of hours of sleep the student had per day.\n",
    "\n",
    "**Sample Question Papers Practiced:** The number of sample question papers the student practiced.\n",
    "\n",
    "### Target Variable:\n",
    "\n",
    "**Performance Index:** A measure of the overall performance of each student. The performance index represents the student's academic performance and has been rounded to the nearest integer. The index ranges from 10 to 100, with higher values indicating better performance."
   ]
  },
  {
   "cell_type": "markdown",
   "metadata": {},
   "source": [
    "## 3. Data Quality Check\n",
    "\n",
    "- Check Missing values\n",
    "- Check Data-types\n",
    "- Check Duplicates\n",
    "- Check unique values count of each variable.\n",
    "- Check descriptive statistics of the dataset."
   ]
  },
  {
   "cell_type": "markdown",
   "metadata": {},
   "source": [
    "### 3.1) Check Missing values"
   ]
  },
  {
   "cell_type": "code",
   "execution_count": 5,
   "metadata": {},
   "outputs": [
    {
     "data": {
      "text/plain": [
       "Hours Studied                       0\n",
       "Previous Scores                     0\n",
       "Extracurricular Activities          0\n",
       "Sleep Hours                         0\n",
       "Sample Question Papers Practiced    0\n",
       "Performance Index                   0\n",
       "dtype: int64"
      ]
     },
     "execution_count": 5,
     "metadata": {},
     "output_type": "execute_result"
    }
   ],
   "source": [
    "data.isnull().sum()"
   ]
  },
  {
   "cell_type": "markdown",
   "metadata": {},
   "source": [
    "**There are no missing-values in the dataset.**"
   ]
  },
  {
   "cell_type": "markdown",
   "metadata": {},
   "source": [
    "### 3.2) Check Data-types"
   ]
  },
  {
   "cell_type": "code",
   "execution_count": 6,
   "metadata": {},
   "outputs": [
    {
     "data": {
      "text/plain": [
       "Hours Studied                         int64\n",
       "Previous Scores                       int64\n",
       "Extracurricular Activities           object\n",
       "Sleep Hours                           int64\n",
       "Sample Question Papers Practiced      int64\n",
       "Performance Index                   float64\n",
       "dtype: object"
      ]
     },
     "execution_count": 6,
     "metadata": {},
     "output_type": "execute_result"
    }
   ],
   "source": [
    "data.dtypes"
   ]
  },
  {
   "cell_type": "markdown",
   "metadata": {},
   "source": [
    "**Numeric variables:** Hours Studied, Previous Scores, Sleep Hours, Sample Question Papers Practiced, Performance Index (Target)\n",
    "\n",
    "**Categorical vaiables:** Extracurricular Activities"
   ]
  },
  {
   "cell_type": "markdown",
   "metadata": {},
   "source": [
    "### 3.3) Check Duplicates"
   ]
  },
  {
   "cell_type": "code",
   "execution_count": 7,
   "metadata": {},
   "outputs": [
    {
     "name": "stdout",
     "output_type": "stream",
     "text": [
      "Duplicate records count: 127\n"
     ]
    }
   ],
   "source": [
    "print('Duplicate records count:', data.duplicated().sum())"
   ]
  },
  {
   "cell_type": "markdown",
   "metadata": {},
   "source": [
    "**127 records are identified as duplicates, hence removing them can help to prevent the model from overfitting to the training data.**"
   ]
  },
  {
   "cell_type": "markdown",
   "metadata": {},
   "source": [
    "### 3.4) Check unique values count of each variable."
   ]
  },
  {
   "cell_type": "code",
   "execution_count": 8,
   "metadata": {},
   "outputs": [
    {
     "name": "stdout",
     "output_type": "stream",
     "text": [
      "Unique values count of each variable\n",
      "\n",
      "Hours Studied                        9\n",
      "Previous Scores                     60\n",
      "Extracurricular Activities           2\n",
      "Sleep Hours                          6\n",
      "Sample Question Papers Practiced    10\n",
      "Performance Index                   91\n",
      "dtype: int64\n"
     ]
    }
   ],
   "source": [
    "print('Unique values count of each variable\\n\\n', data.nunique(), sep=\"\")"
   ]
  },
  {
   "cell_type": "markdown",
   "metadata": {},
   "source": [
    "**Extracurricular Activities variable signifies that a student is participating or not in it (Yes or No).**"
   ]
  },
  {
   "cell_type": "markdown",
   "metadata": {},
   "source": [
    "### 3.5) Check descriptive statistics of the dataset."
   ]
  },
  {
   "cell_type": "code",
   "execution_count": 9,
   "metadata": {},
   "outputs": [
    {
     "data": {
      "text/html": [
       "<div>\n",
       "<style scoped>\n",
       "    .dataframe tbody tr th:only-of-type {\n",
       "        vertical-align: middle;\n",
       "    }\n",
       "\n",
       "    .dataframe tbody tr th {\n",
       "        vertical-align: top;\n",
       "    }\n",
       "\n",
       "    .dataframe thead th {\n",
       "        text-align: right;\n",
       "    }\n",
       "</style>\n",
       "<table border=\"1\" class=\"dataframe\">\n",
       "  <thead>\n",
       "    <tr style=\"text-align: right;\">\n",
       "      <th></th>\n",
       "      <th>count</th>\n",
       "      <th>mean</th>\n",
       "      <th>std</th>\n",
       "      <th>min</th>\n",
       "      <th>25%</th>\n",
       "      <th>50%</th>\n",
       "      <th>75%</th>\n",
       "      <th>max</th>\n",
       "    </tr>\n",
       "  </thead>\n",
       "  <tbody>\n",
       "    <tr>\n",
       "      <th>Hours Studied</th>\n",
       "      <td>10000.0</td>\n",
       "      <td>4.9929</td>\n",
       "      <td>2.589309</td>\n",
       "      <td>1.0</td>\n",
       "      <td>3.0</td>\n",
       "      <td>5.0</td>\n",
       "      <td>7.0</td>\n",
       "      <td>9.0</td>\n",
       "    </tr>\n",
       "    <tr>\n",
       "      <th>Previous Scores</th>\n",
       "      <td>10000.0</td>\n",
       "      <td>69.4457</td>\n",
       "      <td>17.343152</td>\n",
       "      <td>40.0</td>\n",
       "      <td>54.0</td>\n",
       "      <td>69.0</td>\n",
       "      <td>85.0</td>\n",
       "      <td>99.0</td>\n",
       "    </tr>\n",
       "    <tr>\n",
       "      <th>Sleep Hours</th>\n",
       "      <td>10000.0</td>\n",
       "      <td>6.5306</td>\n",
       "      <td>1.695863</td>\n",
       "      <td>4.0</td>\n",
       "      <td>5.0</td>\n",
       "      <td>7.0</td>\n",
       "      <td>8.0</td>\n",
       "      <td>9.0</td>\n",
       "    </tr>\n",
       "    <tr>\n",
       "      <th>Sample Question Papers Practiced</th>\n",
       "      <td>10000.0</td>\n",
       "      <td>4.5833</td>\n",
       "      <td>2.867348</td>\n",
       "      <td>0.0</td>\n",
       "      <td>2.0</td>\n",
       "      <td>5.0</td>\n",
       "      <td>7.0</td>\n",
       "      <td>9.0</td>\n",
       "    </tr>\n",
       "    <tr>\n",
       "      <th>Performance Index</th>\n",
       "      <td>10000.0</td>\n",
       "      <td>55.2248</td>\n",
       "      <td>19.212558</td>\n",
       "      <td>10.0</td>\n",
       "      <td>40.0</td>\n",
       "      <td>55.0</td>\n",
       "      <td>71.0</td>\n",
       "      <td>100.0</td>\n",
       "    </tr>\n",
       "  </tbody>\n",
       "</table>\n",
       "</div>"
      ],
      "text/plain": [
       "                                    count     mean        std   min   25%  \\\n",
       "Hours Studied                     10000.0   4.9929   2.589309   1.0   3.0   \n",
       "Previous Scores                   10000.0  69.4457  17.343152  40.0  54.0   \n",
       "Sleep Hours                       10000.0   6.5306   1.695863   4.0   5.0   \n",
       "Sample Question Papers Practiced  10000.0   4.5833   2.867348   0.0   2.0   \n",
       "Performance Index                 10000.0  55.2248  19.212558  10.0  40.0   \n",
       "\n",
       "                                   50%   75%    max  \n",
       "Hours Studied                      5.0   7.0    9.0  \n",
       "Previous Scores                   69.0  85.0   99.0  \n",
       "Sleep Hours                        7.0   8.0    9.0  \n",
       "Sample Question Papers Practiced   5.0   7.0    9.0  \n",
       "Performance Index                 55.0  71.0  100.0  "
      ]
     },
     "execution_count": 9,
     "metadata": {},
     "output_type": "execute_result"
    }
   ],
   "source": [
    "data.describe().T"
   ]
  },
  {
   "cell_type": "code",
   "execution_count": 10,
   "metadata": {},
   "outputs": [
    {
     "name": "stdout",
     "output_type": "stream",
     "text": [
      "Categories count of Extracurricular Activities\n",
      "No                            5052\n",
      "Yes                           4948\n",
      "Name: count, dtype: int64\n"
     ]
    }
   ],
   "source": [
    "print('Categories count of', data.select_dtypes('object').value_counts(), sep=\" \")"
   ]
  },
  {
   "cell_type": "markdown",
   "metadata": {},
   "source": [
    "**Insights**\n",
    "\n",
    "- All the numeric variables are discrete in nature.\n",
    "- There is a huge difference between mean of Previous Scores and Performance Index.\n",
    "- Also mean and median are almost equal or closely equal for all numeric variables.\n",
    "- Minimum of Previous Scores is equal to the 25th percentile of Performance Index. This shows Performance Index are not as appreciable as compared to that of Previous scores of students.\n",
    "- Extracurricular Activities categories are quite balanced (i.e., no class imbalance)."
   ]
  },
  {
   "cell_type": "markdown",
   "metadata": {},
   "source": []
  }
 ],
 "metadata": {
  "kernelspec": {
   "display_name": "Python 3",
   "language": "python",
   "name": "python3"
  },
  "language_info": {
   "codemirror_mode": {
    "name": "ipython",
    "version": 3
   },
   "file_extension": ".py",
   "mimetype": "text/x-python",
   "name": "python",
   "nbconvert_exporter": "python",
   "pygments_lexer": "ipython3",
   "version": "3.10.14"
  }
 },
 "nbformat": 4,
 "nbformat_minor": 2
}
